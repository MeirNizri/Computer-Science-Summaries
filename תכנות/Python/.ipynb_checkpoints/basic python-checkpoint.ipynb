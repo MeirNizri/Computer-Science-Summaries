{
 "cells": [
  {
   "cell_type": "markdown",
   "id": "6d6c75cb-2e3c-424c-b104-43bd7636f5ca",
   "metadata": {},
   "source": [
    "# פייתון בסיס"
   ]
  },
  {
   "cell_type": "markdown",
   "id": "6ca2ca37",
   "metadata": {},
   "source": [
    "### התקנת חבילות - pip"
   ]
  },
  {
   "cell_type": "markdown",
   "id": "556d4960",
   "metadata": {},
   "source": [
    "הדרך השימושית ביותר להתקנת חבילות בפייתון היא באמצעות פקודת  \n",
    "pip install package_name\n",
    "\n",
    "מספר דגלים שימושיים:  \n",
    "-q - מצב שקט. לא מדפיס את כל הפלט הארוך אלא רק הערות חשובות."
   ]
  },
  {
   "cell_type": "code",
   "execution_count": 4,
   "id": "a852adf0",
   "metadata": {},
   "outputs": [
    {
     "name": "stdout",
     "output_type": "stream",
     "text": [
      "Note: you may need to restart the kernel to use updated packages.\n"
     ]
    }
   ],
   "source": [
    "pip install -q numpy"
   ]
  },
  {
   "cell_type": "markdown",
   "id": "0336ad73-991e-466b-a79d-221b17d3b198",
   "metadata": {},
   "source": [
    "#### variables"
   ]
  },
  {
   "cell_type": "code",
   "execution_count": 17,
   "id": "85dafcf2-65b0-4c2f-995d-a4d3b4763184",
   "metadata": {
    "scrolled": true
   },
   "outputs": [
    {
     "data": {
      "text/plain": [
       "tuple"
      ]
     },
     "execution_count": 17,
     "metadata": {},
     "output_type": "execute_result"
    }
   ],
   "source": [
    "list = (1,2)\n",
    "type(list)"
   ]
  },
  {
   "cell_type": "markdown",
   "id": "d115a740-5d43-494d-9ae1-07e9abe237a6",
   "metadata": {},
   "source": [
    "#### Get help\n",
    "use \"?\" on function, and objects to get more details  \n",
    "use \"??\" to also get the source code"
   ]
  },
  {
   "cell_type": "code",
   "execution_count": 8,
   "id": "53377ecc-61ff-420f-8279-64ad38eda546",
   "metadata": {},
   "outputs": [
    {
     "data": {
      "text/plain": [
       "\u001b[1;31mType:\u001b[0m        list\n",
       "\u001b[1;31mString form:\u001b[0m [1, 2, 3]\n",
       "\u001b[1;31mLength:\u001b[0m      3\n",
       "\u001b[1;31mDocstring:\u001b[0m  \n",
       "Built-in mutable sequence.\n",
       "\n",
       "If no argument is given, the constructor creates a new empty list.\n",
       "The argument must be an iterable if specified.\n"
      ]
     },
     "metadata": {},
     "output_type": "display_data"
    }
   ],
   "source": [
    "L = [1, 2, 3]\n",
    "L?"
   ]
  },
  {
   "cell_type": "code",
   "execution_count": 9,
   "id": "396193d1-8b18-4cd7-a2f6-94499a8ea9f7",
   "metadata": {},
   "outputs": [
    {
     "data": {
      "text/plain": [
       "\u001b[1;31mSignature:\u001b[0m \u001b[0mL\u001b[0m\u001b[1;33m.\u001b[0m\u001b[0minsert\u001b[0m\u001b[1;33m(\u001b[0m\u001b[0mindex\u001b[0m\u001b[1;33m,\u001b[0m \u001b[0mobject\u001b[0m\u001b[1;33m,\u001b[0m \u001b[1;33m/\u001b[0m\u001b[1;33m)\u001b[0m\u001b[1;33m\u001b[0m\u001b[1;33m\u001b[0m\u001b[0m\n",
       "\u001b[1;31mDocstring:\u001b[0m Insert object before index.\n",
       "\u001b[1;31mType:\u001b[0m      builtin_function_or_method\n"
      ]
     },
     "metadata": {},
     "output_type": "display_data"
    }
   ],
   "source": [
    "L.insert?"
   ]
  },
  {
   "cell_type": "markdown",
   "id": "795874cc-5b65-4205-b3eb-2a63e4c95f59",
   "metadata": {},
   "source": [
    "# NumPy"
   ]
  },
  {
   "cell_type": "code",
   "execution_count": 12,
   "id": "6fd9bafc-0915-4a75-8e8b-c591205e2f5e",
   "metadata": {},
   "outputs": [],
   "source": [
    "import numpy as np"
   ]
  },
  {
   "cell_type": "code",
   "execution_count": 14,
   "id": "84ca111d-b35d-48f5-8d1e-ceb1fdf851fd",
   "metadata": {},
   "outputs": [
    {
     "name": "stdout",
     "output_type": "stream",
     "text": [
      "[ True False False]\n",
      "[ 2  6 11]\n"
     ]
    }
   ],
   "source": [
    "arr1 = np.array([1, 2, 5])\n",
    "arr2 = np.array([1, 4, 6])\n",
    "\n",
    "print(arr1==arr2)\n",
    "print(arr1+arr2)"
   ]
  },
  {
   "cell_type": "code",
   "execution_count": null,
   "id": "0b0403f9-ba34-4227-b64f-8a4234d8d7da",
   "metadata": {},
   "outputs": [],
   "source": []
  }
 ],
 "metadata": {
  "direction": "rtl",
  "kernelspec": {
   "display_name": "Python 3 (ipykernel)",
   "language": "python",
   "name": "python3"
  },
  "language_info": {
   "codemirror_mode": {
    "name": "ipython",
    "version": 3
   },
   "file_extension": ".py",
   "mimetype": "text/x-python",
   "name": "python",
   "nbconvert_exporter": "python",
   "pygments_lexer": "ipython3",
   "version": "3.11.0"
  }
 },
 "nbformat": 4,
 "nbformat_minor": 5
}
