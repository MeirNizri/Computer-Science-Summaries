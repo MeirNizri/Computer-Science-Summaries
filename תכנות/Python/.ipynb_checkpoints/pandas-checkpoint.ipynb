{
 "cells": [
  {
   "cell_type": "code",
   "execution_count": 1,
   "id": "c4f46f32-4e0e-45ed-a9b7-5e2c71432c02",
   "metadata": {},
   "outputs": [],
   "source": [
    "import pandas as pd\n",
    "import numpy as np"
   ]
  },
  {
   "cell_type": "markdown",
   "id": "1d706cfe",
   "metadata": {},
   "source": [
    "# יצירת קובץ דאטה"
   ]
  },
  {
   "cell_type": "markdown",
   "id": "b1542c9c-4558-4d32-a4d7-1a4256727b5c",
   "metadata": {
    "direction": "ltr"
   },
   "source": [
    "class pandas.DataFrame(data=None, index=None, columns=None, dtype=None, copy=None)"
   ]
  },
  {
   "cell_type": "markdown",
   "id": "0a9f60a7",
   "metadata": {},
   "source": [
    "ניתן ליצור דאטה באמצעות מילון שבו המפתחות הם שמות התכונות והערכים הם רשימות"
   ]
  },
  {
   "cell_type": "code",
   "execution_count": 2,
   "id": "84bc30e2-0a36-4bc2-819d-90e809550651",
   "metadata": {},
   "outputs": [
    {
     "data": {
      "text/html": [
       "<div>\n",
       "<style scoped>\n",
       "    .dataframe tbody tr th:only-of-type {\n",
       "        vertical-align: middle;\n",
       "    }\n",
       "\n",
       "    .dataframe tbody tr th {\n",
       "        vertical-align: top;\n",
       "    }\n",
       "\n",
       "    .dataframe thead th {\n",
       "        text-align: right;\n",
       "    }\n",
       "</style>\n",
       "<table border=\"1\" class=\"dataframe\">\n",
       "  <thead>\n",
       "    <tr style=\"text-align: right;\">\n",
       "      <th></th>\n",
       "      <th>name</th>\n",
       "      <th>age</th>\n",
       "      <th>height</th>\n",
       "    </tr>\n",
       "  </thead>\n",
       "  <tbody>\n",
       "    <tr>\n",
       "      <th>20</th>\n",
       "      <td>Tom</td>\n",
       "      <td>20</td>\n",
       "      <td>1.7</td>\n",
       "    </tr>\n",
       "    <tr>\n",
       "      <th>29</th>\n",
       "      <td>nick</td>\n",
       "      <td>21</td>\n",
       "      <td>1.6</td>\n",
       "    </tr>\n",
       "    <tr>\n",
       "      <th>13</th>\n",
       "      <td>krish</td>\n",
       "      <td>19</td>\n",
       "      <td>1.8</td>\n",
       "    </tr>\n",
       "    <tr>\n",
       "      <th>78</th>\n",
       "      <td>jack</td>\n",
       "      <td>18</td>\n",
       "      <td>2.0</td>\n",
       "    </tr>\n",
       "  </tbody>\n",
       "</table>\n",
       "</div>"
      ],
      "text/plain": [
       "     name  age  height\n",
       "20    Tom   20     1.7\n",
       "29   nick   21     1.6\n",
       "13  krish   19     1.8\n",
       "78   jack   18     2.0"
      ]
     },
     "execution_count": 2,
     "metadata": {},
     "output_type": "execute_result"
    }
   ],
   "source": [
    "names = ['Tom', 'nick', 'krish', 'jack']\n",
    "ages = [20, 21, 19, 18]\n",
    "heights = [1.7, 1.6, 1.8, 2]\n",
    "id = [20,29,13,78]\n",
    "data = {'name':names, 'age':ages, 'height':heights}\n",
    "df = pd.DataFrame(data, index=id)\n",
    "df"
   ]
  },
  {
   "cell_type": "markdown",
   "id": "1c9ede6b-7534-43e7-be09-007735e4f444",
   "metadata": {},
   "source": [
    "#### קריאה מקובץ או לינק"
   ]
  },
  {
   "cell_type": "markdown",
   "id": "c842095c",
   "metadata": {
    "direction": "ltr"
   },
   "source": [
    "pandas.read_csv(filepath_or_buffer, header='infer', names=_NoDefault.no_default, index_col=None, encoding=None)"
   ]
  },
  {
   "cell_type": "code",
   "execution_count": 3,
   "id": "00432c36-bd44-4f25-b509-bc7a0e8819fe",
   "metadata": {},
   "outputs": [
    {
     "data": {
      "text/html": [
       "<div>\n",
       "<style scoped>\n",
       "    .dataframe tbody tr th:only-of-type {\n",
       "        vertical-align: middle;\n",
       "    }\n",
       "\n",
       "    .dataframe tbody tr th {\n",
       "        vertical-align: top;\n",
       "    }\n",
       "\n",
       "    .dataframe thead th {\n",
       "        text-align: right;\n",
       "    }\n",
       "</style>\n",
       "<table border=\"1\" class=\"dataframe\">\n",
       "  <thead>\n",
       "    <tr style=\"text-align: right;\">\n",
       "      <th></th>\n",
       "      <th>location</th>\n",
       "      <th>iso_code</th>\n",
       "      <th>date</th>\n",
       "      <th>total_vaccinations</th>\n",
       "      <th>people_vaccinated</th>\n",
       "      <th>people_fully_vaccinated</th>\n",
       "      <th>total_boosters</th>\n",
       "      <th>daily_vaccinations_raw</th>\n",
       "      <th>daily_vaccinations</th>\n",
       "      <th>total_vaccinations_per_hundred</th>\n",
       "      <th>people_vaccinated_per_hundred</th>\n",
       "      <th>people_fully_vaccinated_per_hundred</th>\n",
       "      <th>total_boosters_per_hundred</th>\n",
       "      <th>daily_vaccinations_per_million</th>\n",
       "      <th>daily_people_vaccinated</th>\n",
       "      <th>daily_people_vaccinated_per_hundred</th>\n",
       "    </tr>\n",
       "  </thead>\n",
       "  <tbody>\n",
       "    <tr>\n",
       "      <th>0</th>\n",
       "      <td>Afghanistan</td>\n",
       "      <td>AFG</td>\n",
       "      <td>2021-02-22</td>\n",
       "      <td>0.0</td>\n",
       "      <td>0.0</td>\n",
       "      <td>NaN</td>\n",
       "      <td>NaN</td>\n",
       "      <td>NaN</td>\n",
       "      <td>NaN</td>\n",
       "      <td>0.0</td>\n",
       "      <td>0.0</td>\n",
       "      <td>NaN</td>\n",
       "      <td>NaN</td>\n",
       "      <td>NaN</td>\n",
       "      <td>NaN</td>\n",
       "      <td>NaN</td>\n",
       "    </tr>\n",
       "    <tr>\n",
       "      <th>1</th>\n",
       "      <td>Afghanistan</td>\n",
       "      <td>AFG</td>\n",
       "      <td>2021-02-23</td>\n",
       "      <td>NaN</td>\n",
       "      <td>NaN</td>\n",
       "      <td>NaN</td>\n",
       "      <td>NaN</td>\n",
       "      <td>NaN</td>\n",
       "      <td>1367.0</td>\n",
       "      <td>NaN</td>\n",
       "      <td>NaN</td>\n",
       "      <td>NaN</td>\n",
       "      <td>NaN</td>\n",
       "      <td>33.0</td>\n",
       "      <td>1367.0</td>\n",
       "      <td>0.003</td>\n",
       "    </tr>\n",
       "  </tbody>\n",
       "</table>\n",
       "</div>"
      ],
      "text/plain": [
       "      location iso_code        date  total_vaccinations  people_vaccinated  \\\n",
       "0  Afghanistan      AFG  2021-02-22                 0.0                0.0   \n",
       "1  Afghanistan      AFG  2021-02-23                 NaN                NaN   \n",
       "\n",
       "   people_fully_vaccinated  total_boosters  daily_vaccinations_raw  \\\n",
       "0                      NaN             NaN                     NaN   \n",
       "1                      NaN             NaN                     NaN   \n",
       "\n",
       "   daily_vaccinations  total_vaccinations_per_hundred  \\\n",
       "0                 NaN                             0.0   \n",
       "1              1367.0                             NaN   \n",
       "\n",
       "   people_vaccinated_per_hundred  people_fully_vaccinated_per_hundred  \\\n",
       "0                            0.0                                  NaN   \n",
       "1                            NaN                                  NaN   \n",
       "\n",
       "   total_boosters_per_hundred  daily_vaccinations_per_million  \\\n",
       "0                         NaN                             NaN   \n",
       "1                         NaN                            33.0   \n",
       "\n",
       "   daily_people_vaccinated  daily_people_vaccinated_per_hundred  \n",
       "0                      NaN                                  NaN  \n",
       "1                   1367.0                                0.003  "
      ]
     },
     "execution_count": 3,
     "metadata": {},
     "output_type": "execute_result"
    }
   ],
   "source": [
    "url = 'https://raw.githubusercontent.com/owid/covid-19-data/master/public/data/vaccinations/vaccinations.csv'\n",
    "vac_df = pd.read_csv(url)\n",
    "vac_df.head(2)"
   ]
  },
  {
   "cell_type": "markdown",
   "id": "450a76fc-2318-4b59-a9f8-8946a1c6792e",
   "metadata": {},
   "source": [
    "### קבלת מידע על הדאטה"
   ]
  },
  {
   "cell_type": "code",
   "execution_count": 28,
   "id": "0c4b6356-9984-4da8-9674-fa50dd468f6f",
   "metadata": {},
   "outputs": [
    {
     "name": "stdout",
     "output_type": "stream",
     "text": [
      "<class 'pandas.core.frame.DataFrame'>\n",
      "Int64Index: 4 entries, 20 to 78\n",
      "Data columns (total 3 columns):\n",
      " #   Column  Non-Null Count  Dtype  \n",
      "---  ------  --------------  -----  \n",
      " 0   name    4 non-null      string \n",
      " 1   age     4 non-null      Int64  \n",
      " 2   height  4 non-null      Float64\n",
      "dtypes: Float64(1), Int64(1), string(1)\n",
      "memory usage: 136.0 bytes\n"
     ]
    }
   ],
   "source": [
    "df.shape\n",
    "df.columns\n",
    "df.dtypes\n",
    "df.describe()\n",
    "df.info()"
   ]
  },
  {
   "cell_type": "markdown",
   "id": "828f012a",
   "metadata": {},
   "source": [
    "# חיפוש "
   ]
  },
  {
   "cell_type": "markdown",
   "id": "3841cf2b-afa7-477f-b31f-57845b01f697",
   "metadata": {},
   "source": [
    "### חיפוש לפי ערך - loc"
   ]
  },
  {
   "cell_type": "code",
   "execution_count": 5,
   "id": "9b4f7cd6-c80b-4add-b002-9e8265ce5ccd",
   "metadata": {},
   "outputs": [],
   "source": [
    "# select single column as series\n",
    "vac_df['location']\n",
    "# select single column as dataframe\n",
    "vac_df[['location']]\n",
    "# select multiple columns\n",
    "vac_df[['location','date']]\n",
    "# select based on condition\n",
    "vac_df.loc[(vac_df.location == 'Israel') | (vac_df.location == 'Denmark')]\n",
    "pass"
   ]
  },
  {
   "cell_type": "markdown",
   "id": "5126be36-3621-4c03-9181-3db43159e488",
   "metadata": {},
   "source": [
    "### חיפוש לפי אינדקס - iloc"
   ]
  },
  {
   "cell_type": "code",
   "execution_count": 6,
   "id": "f875a3c2-0ccf-4739-917b-52104bcb15a4",
   "metadata": {},
   "outputs": [],
   "source": [
    "# select row as a series\n",
    "vac_df.iloc[0]\n",
    "# select row as a dataframe\n",
    "vac_df.iloc[0:1]\n",
    "# select 1st, 4th, 7th, 25th row + 1st 6th 7th columns\n",
    "vac_df.iloc[[0,3,6,24], [0,5,6]]\n",
    "pass"
   ]
  },
  {
   "cell_type": "markdown",
   "id": "5aa052fd-4def-4129-be0b-b86069ecc160",
   "metadata": {},
   "source": [
    "# עיבוד והכנה"
   ]
  },
  {
   "cell_type": "markdown",
   "id": "8ad71539-7119-4f21-9a5a-c2f5e8b5403a",
   "metadata": {},
   "source": [
    "### ספירה של ערכים ייחודיים"
   ]
  },
  {
   "cell_type": "markdown",
   "id": "a7025f57",
   "metadata": {
    "direction": "ltr"
   },
   "source": [
    "DataFrame.value_counts(subset=None, normalize=False, sort=True, ascending=False, dropna=True)"
   ]
  },
  {
   "cell_type": "code",
   "execution_count": 7,
   "id": "1adbf0d1-be9a-4d54-ad96-cb597df48bd9",
   "metadata": {},
   "outputs": [
    {
     "data": {
      "text/plain": [
       "name   age  height\n",
       "Tom    20   1.7       1\n",
       "jack   18   2.0       1\n",
       "krish  19   1.8       1\n",
       "nick   21   1.6       1\n",
       "dtype: int64"
      ]
     },
     "execution_count": 7,
     "metadata": {},
     "output_type": "execute_result"
    }
   ],
   "source": [
    "df.value_counts()"
   ]
  },
  {
   "cell_type": "markdown",
   "id": "8399bd5d-be09-4576-8d30-17f691a8f2dd",
   "metadata": {},
   "source": [
    "### הסרת שיכפולים"
   ]
  },
  {
   "cell_type": "markdown",
   "id": "4770baae",
   "metadata": {
    "direction": "ltr"
   },
   "source": [
    "DataFrame.drop_duplicates(subset=None, *, keep='first', inplace=False, ignore_index=False)  \n",
    "\n",
    "- subset: list of columns to consider for identifying duplicates, by default use all of the columns.\n",
    "- keep: ‘first’, ‘last’, False (drop all duplicates)\n",
    "- ignore_index: bool. If True, the resulting axis will be labeled 0, 1, …, n - 1."
   ]
  },
  {
   "cell_type": "code",
   "execution_count": 8,
   "id": "05aca313-f146-4dd2-83f5-2cef8ea49317",
   "metadata": {},
   "outputs": [
    {
     "data": {
      "text/html": [
       "<div>\n",
       "<style scoped>\n",
       "    .dataframe tbody tr th:only-of-type {\n",
       "        vertical-align: middle;\n",
       "    }\n",
       "\n",
       "    .dataframe tbody tr th {\n",
       "        vertical-align: top;\n",
       "    }\n",
       "\n",
       "    .dataframe thead th {\n",
       "        text-align: right;\n",
       "    }\n",
       "</style>\n",
       "<table border=\"1\" class=\"dataframe\">\n",
       "  <thead>\n",
       "    <tr style=\"text-align: right;\">\n",
       "      <th></th>\n",
       "      <th>brand</th>\n",
       "      <th>style</th>\n",
       "      <th>rating</th>\n",
       "    </tr>\n",
       "  </thead>\n",
       "  <tbody>\n",
       "    <tr>\n",
       "      <th>0</th>\n",
       "      <td>Yum Yum</td>\n",
       "      <td>cup</td>\n",
       "      <td>4</td>\n",
       "    </tr>\n",
       "  </tbody>\n",
       "</table>\n",
       "</div>"
      ],
      "text/plain": [
       "     brand style  rating\n",
       "0  Yum Yum   cup       4"
      ]
     },
     "execution_count": 8,
     "metadata": {},
     "output_type": "execute_result"
    }
   ],
   "source": [
    "df2 = pd.DataFrame({\n",
    "    'brand': ['Yum Yum', 'Yum Yum'],\n",
    "    'style': ['cup', 'cup'],\n",
    "    'rating': [4, 4]\n",
    "})\n",
    "df2.drop_duplicates()"
   ]
  },
  {
   "cell_type": "markdown",
   "id": "33077f21",
   "metadata": {},
   "source": [
    "### המרת טיפוסים\n",
    "לעיתים טיפוס של תכונה מסוימת אינו מסוג הטיפוס שאנו רוצים. לדוגמה, עמודה עם ערכים מספריים אך הטיפוס הנוכחי שלה הוא מחרוזת."
   ]
  },
  {
   "cell_type": "markdown",
   "id": "20afadc7",
   "metadata": {},
   "source": [
    "#### convert_dtypes\n",
    "דרך בסיסית אחת היא לתת לפונקציה convert_dtypes להבין לבד מה הטיפוס המתאים. שיטה זו יכולה להמיר את הטיפוס לאחד מהטיפוסים הבסיסיים: boolean, integer, float, string. לא תמיד היא עובדת היטב. לפני שמנסים שיטות אחרות, מומלץ קודם לנסות להבין כמה ערכים בעייתיים יש שמונעים המרה לטיפוס הנכון ולטפל בהם נקודתית."
   ]
  },
  {
   "cell_type": "code",
   "execution_count": 9,
   "id": "24adb636",
   "metadata": {},
   "outputs": [
    {
     "name": "stdout",
     "output_type": "stream",
     "text": [
      "name       object\n",
      "age         int64\n",
      "height    float64\n",
      "dtype: object\n"
     ]
    },
    {
     "data": {
      "text/plain": [
       "name       string\n",
       "age         Int64\n",
       "height    Float64\n",
       "dtype: object"
      ]
     },
     "execution_count": 9,
     "metadata": {},
     "output_type": "execute_result"
    }
   ],
   "source": [
    "print(df.dtypes)\n",
    "df = df.convert_dtypes()\n",
    "df.dtypes"
   ]
  },
  {
   "cell_type": "markdown",
   "id": "97a73ca5-120f-4dee-908e-65b98532cfb1",
   "metadata": {},
   "source": [
    "### החלפת ערכים"
   ]
  },
  {
   "cell_type": "markdown",
   "id": "b265ad62",
   "metadata": {
    "direction": "ltr"
   },
   "source": [
    "DataFrame.replace(to_replace=None, value=_NoDefault.no_default, *, inplace=False, regex=False, method=_NoDefault.no_default)"
   ]
  },
  {
   "cell_type": "code",
   "execution_count": 10,
   "id": "6c30ed2a-de36-4f7a-945f-78c088f4fe67",
   "metadata": {},
   "outputs": [
    {
     "data": {
      "text/html": [
       "<div>\n",
       "<style scoped>\n",
       "    .dataframe tbody tr th:only-of-type {\n",
       "        vertical-align: middle;\n",
       "    }\n",
       "\n",
       "    .dataframe tbody tr th {\n",
       "        vertical-align: top;\n",
       "    }\n",
       "\n",
       "    .dataframe thead th {\n",
       "        text-align: right;\n",
       "    }\n",
       "</style>\n",
       "<table border=\"1\" class=\"dataframe\">\n",
       "  <thead>\n",
       "    <tr style=\"text-align: right;\">\n",
       "      <th></th>\n",
       "      <th>A</th>\n",
       "      <th>B</th>\n",
       "    </tr>\n",
       "  </thead>\n",
       "  <tbody>\n",
       "    <tr>\n",
       "      <th>0</th>\n",
       "      <td>new</td>\n",
       "      <td>abd</td>\n",
       "    </tr>\n",
       "    <tr>\n",
       "      <th>1</th>\n",
       "      <td>foo</td>\n",
       "      <td>new</td>\n",
       "    </tr>\n",
       "    <tr>\n",
       "      <th>2</th>\n",
       "      <td>b</td>\n",
       "      <td>xyz</td>\n",
       "    </tr>\n",
       "  </tbody>\n",
       "</table>\n",
       "</div>"
      ],
      "text/plain": [
       "     A    B\n",
       "0  new  abd\n",
       "1  foo  new\n",
       "2    b  xyz"
      ]
     },
     "execution_count": 10,
     "metadata": {},
     "output_type": "execute_result"
    }
   ],
   "source": [
    "df3 = pd.DataFrame({\n",
    "    'A': ['bat', 'foo', 'bait'],\n",
    "    'B': ['abc', 'bar', 'xyz']\n",
    "})\n",
    "df3.replace(to_replace=r'^ba.$', value='new', regex=True, inplace=True)\n",
    "df3.replace({'abc' : 'abd', 'bait' : 'b'}, inplace=True)\n",
    "df3"
   ]
  },
  {
   "cell_type": "markdown",
   "id": "c02cf49d-d9db-4b8a-ae2f-d2ee631383f7",
   "metadata": {},
   "source": [
    "### שינוי אינדקס"
   ]
  },
  {
   "cell_type": "markdown",
   "id": "f1503f65",
   "metadata": {
    "direction": "ltr"
   },
   "source": [
    "DataFrame.reset_index(level=None, *, drop=False, inplace=False, names=None)"
   ]
  },
  {
   "cell_type": "code",
   "execution_count": 11,
   "id": "2c7f2afb-ce76-4bae-8891-11d9818c9c89",
   "metadata": {},
   "outputs": [
    {
     "name": "stdout",
     "output_type": "stream",
     "text": [
      "RangeIndex(start=0, stop=146273, step=1)\n"
     ]
    },
    {
     "data": {
      "text/html": [
       "<div>\n",
       "<style scoped>\n",
       "    .dataframe tbody tr th:only-of-type {\n",
       "        vertical-align: middle;\n",
       "    }\n",
       "\n",
       "    .dataframe tbody tr th {\n",
       "        vertical-align: top;\n",
       "    }\n",
       "\n",
       "    .dataframe thead th {\n",
       "        text-align: right;\n",
       "    }\n",
       "</style>\n",
       "<table border=\"1\" class=\"dataframe\">\n",
       "  <thead>\n",
       "    <tr style=\"text-align: right;\">\n",
       "      <th></th>\n",
       "      <th>location</th>\n",
       "      <th>iso_code</th>\n",
       "      <th>date</th>\n",
       "      <th>total_vaccinations</th>\n",
       "      <th>people_vaccinated</th>\n",
       "      <th>people_fully_vaccinated</th>\n",
       "      <th>total_boosters</th>\n",
       "      <th>daily_vaccinations_raw</th>\n",
       "      <th>daily_vaccinations</th>\n",
       "      <th>total_vaccinations_per_hundred</th>\n",
       "      <th>people_vaccinated_per_hundred</th>\n",
       "      <th>people_fully_vaccinated_per_hundred</th>\n",
       "      <th>total_boosters_per_hundred</th>\n",
       "      <th>daily_vaccinations_per_million</th>\n",
       "      <th>daily_people_vaccinated</th>\n",
       "      <th>daily_people_vaccinated_per_hundred</th>\n",
       "    </tr>\n",
       "  </thead>\n",
       "  <tbody>\n",
       "    <tr>\n",
       "      <th>0</th>\n",
       "      <td>Afghanistan</td>\n",
       "      <td>AFG</td>\n",
       "      <td>2021-02-22</td>\n",
       "      <td>0.0</td>\n",
       "      <td>0.0</td>\n",
       "      <td>NaN</td>\n",
       "      <td>NaN</td>\n",
       "      <td>NaN</td>\n",
       "      <td>NaN</td>\n",
       "      <td>0.0</td>\n",
       "      <td>0.0</td>\n",
       "      <td>NaN</td>\n",
       "      <td>NaN</td>\n",
       "      <td>NaN</td>\n",
       "      <td>NaN</td>\n",
       "      <td>NaN</td>\n",
       "    </tr>\n",
       "    <tr>\n",
       "      <th>1</th>\n",
       "      <td>Afghanistan</td>\n",
       "      <td>AFG</td>\n",
       "      <td>2021-02-23</td>\n",
       "      <td>NaN</td>\n",
       "      <td>NaN</td>\n",
       "      <td>NaN</td>\n",
       "      <td>NaN</td>\n",
       "      <td>NaN</td>\n",
       "      <td>1367.0</td>\n",
       "      <td>NaN</td>\n",
       "      <td>NaN</td>\n",
       "      <td>NaN</td>\n",
       "      <td>NaN</td>\n",
       "      <td>33.0</td>\n",
       "      <td>1367.0</td>\n",
       "      <td>0.003</td>\n",
       "    </tr>\n",
       "  </tbody>\n",
       "</table>\n",
       "</div>"
      ],
      "text/plain": [
       "      location iso_code        date  total_vaccinations  people_vaccinated  \\\n",
       "0  Afghanistan      AFG  2021-02-22                 0.0                0.0   \n",
       "1  Afghanistan      AFG  2021-02-23                 NaN                NaN   \n",
       "\n",
       "   people_fully_vaccinated  total_boosters  daily_vaccinations_raw  \\\n",
       "0                      NaN             NaN                     NaN   \n",
       "1                      NaN             NaN                     NaN   \n",
       "\n",
       "   daily_vaccinations  total_vaccinations_per_hundred  \\\n",
       "0                 NaN                             0.0   \n",
       "1              1367.0                             NaN   \n",
       "\n",
       "   people_vaccinated_per_hundred  people_fully_vaccinated_per_hundred  \\\n",
       "0                            0.0                                  NaN   \n",
       "1                            NaN                                  NaN   \n",
       "\n",
       "   total_boosters_per_hundred  daily_vaccinations_per_million  \\\n",
       "0                         NaN                             NaN   \n",
       "1                         NaN                            33.0   \n",
       "\n",
       "   daily_people_vaccinated  daily_people_vaccinated_per_hundred  \n",
       "0                      NaN                                  NaN  \n",
       "1                   1367.0                                0.003  "
      ]
     },
     "execution_count": 11,
     "metadata": {},
     "output_type": "execute_result"
    }
   ],
   "source": [
    "print(vac_df.index)\n",
    "vac_df.reset_index(drop=True).head(2)"
   ]
  },
  {
   "cell_type": "markdown",
   "id": "d2a832b9-7b68-4462-b5e1-1cdf892d91ce",
   "metadata": {},
   "source": [
    "### ערכים חסרים"
   ]
  },
  {
   "cell_type": "markdown",
   "id": "3e1ff873",
   "metadata": {},
   "source": [
    "#### מספר ערכים חסרים בכל תכונה"
   ]
  },
  {
   "cell_type": "code",
   "execution_count": 12,
   "id": "f6b96e60-296a-4942-b389-75af149e7f46",
   "metadata": {},
   "outputs": [
    {
     "data": {
      "text/plain": [
       "total_vaccinations    76774\n",
       "people_vaccinated     79821\n",
       "dtype: int64"
      ]
     },
     "execution_count": 12,
     "metadata": {},
     "output_type": "execute_result"
    }
   ],
   "source": [
    "vac_df[['total_vaccinations', 'people_vaccinated']].isna().sum()"
   ]
  },
  {
   "cell_type": "markdown",
   "id": "09668ef7-e7dd-4e47-bb28-c3242c8ae15a",
   "metadata": {},
   "source": [
    "#### מילוי ערכים חסרים"
   ]
  },
  {
   "cell_type": "markdown",
   "id": "71dc338a",
   "metadata": {
    "direction": "ltr"
   },
   "source": [
    "DataFrame.fillna(value=None, *, method=None, axis=None, inplace=False, limit=None, downcast=None)\n",
    "\n",
    "- value: to use to fill holes (e.g. 0), alternately a dict/Series/DataFrame of values specifying which value to use for each column."
   ]
  },
  {
   "cell_type": "code",
   "execution_count": 13,
   "id": "dd249ec8-2fb6-425e-94bf-f2307ae9077b",
   "metadata": {},
   "outputs": [
    {
     "data": {
      "text/plain": [
       "0         5755.0\n",
       "1         1367.0\n",
       "2         1367.0\n",
       "3         1367.0\n",
       "4         1367.0\n",
       "           ...  \n",
       "146268    2076.0\n",
       "146269    1714.0\n",
       "146270    1529.0\n",
       "146271    1344.0\n",
       "146272    1126.0\n",
       "Name: daily_vaccinations, Length: 146273, dtype: float64"
      ]
     },
     "execution_count": 13,
     "metadata": {},
     "output_type": "execute_result"
    }
   ],
   "source": [
    "vac_df['daily_vaccinations'].fillna(vac_df['daily_vaccinations'].median())"
   ]
  },
  {
   "cell_type": "markdown",
   "id": "19b9b99d-d75a-4c7a-90a5-8181d8119c6b",
   "metadata": {},
   "source": [
    "#### מחיקת שורות שיש בהם ערך ריק"
   ]
  },
  {
   "cell_type": "markdown",
   "id": "a87e1580",
   "metadata": {
    "direction": "ltr"
   },
   "source": [
    "DataFrame.dropna(*, axis=0, how=_NoDefault.no_default, thresh=_NoDefault.no_default, subset=None, inplace=False)\n",
    "\n",
    "- axis: 0/'index' - drop rows which contain missing values. 1/'columns' - drop columns which contain missing value.\n",
    "- how: ‘any’ - If any NA values are present, drop that row or column. ‘all’ - If all values are NA, drop that row or column.\n",
    "- thresh: int. Require that many non-NA values. Cannot be combined with how.\n",
    "- subset: list of columns to consider."
   ]
  },
  {
   "cell_type": "code",
   "execution_count": 14,
   "id": "f6bc7147-958a-4d02-b9dd-b541131be9ed",
   "metadata": {},
   "outputs": [
    {
     "data": {
      "text/plain": [
       "total_vaccinations    0\n",
       "people_vaccinated     0\n",
       "dtype: int64"
      ]
     },
     "execution_count": 14,
     "metadata": {},
     "output_type": "execute_result"
    }
   ],
   "source": [
    "vac_df.dropna(subset=['total_vaccinations', 'people_vaccinated'], inplace=True)\n",
    "vac_df[['total_vaccinations', 'people_vaccinated']].isna().sum()"
   ]
  },
  {
   "cell_type": "markdown",
   "id": "50c2ec67",
   "metadata": {},
   "source": [
    "### יצירת תכונות חדשות"
   ]
  },
  {
   "cell_type": "markdown",
   "id": "fd481824",
   "metadata": {},
   "source": [
    "#### המרת תכונות קטגוריות ל-one hot encoded \n",
    "לפני אימון מודל על דאטה חייב להמיר את כל התכונות שאינן מספריות. שיטה טובה וקלה לעשות זאת היא להמיר אותן ל-one hot encoded.  "
   ]
  },
  {
   "cell_type": "markdown",
   "id": "99361042",
   "metadata": {
    "direction": "ltr"
   },
   "source": [
    "pandas.get_dummies(data, prefix=None, prefix_sep='_', dummy_na=False, columns=None, sparse=False, drop_first=False, dtype=None)\n",
    "\n",
    "- prefix: String to append DataFrame column names. The default is column name.\n",
    "- prefix_sep: string that separate between prefix and the categorical value.\n",
    "- columns: list. Column names in the DataFrame to be encoded. If None then all the columns with object, string, or category dtype will be converted.\n",
    "- dtype: data type for new columns"
   ]
  },
  {
   "cell_type": "code",
   "execution_count": 15,
   "id": "c0aede38",
   "metadata": {},
   "outputs": [
    {
     "data": {
      "text/html": [
       "<div>\n",
       "<style scoped>\n",
       "    .dataframe tbody tr th:only-of-type {\n",
       "        vertical-align: middle;\n",
       "    }\n",
       "\n",
       "    .dataframe tbody tr th {\n",
       "        vertical-align: top;\n",
       "    }\n",
       "\n",
       "    .dataframe thead th {\n",
       "        text-align: right;\n",
       "    }\n",
       "</style>\n",
       "<table border=\"1\" class=\"dataframe\">\n",
       "  <thead>\n",
       "    <tr style=\"text-align: right;\">\n",
       "      <th></th>\n",
       "      <th>age</th>\n",
       "      <th>height</th>\n",
       "      <th>Tom</th>\n",
       "      <th>jack</th>\n",
       "      <th>krish</th>\n",
       "      <th>nick</th>\n",
       "    </tr>\n",
       "  </thead>\n",
       "  <tbody>\n",
       "    <tr>\n",
       "      <th>20</th>\n",
       "      <td>20</td>\n",
       "      <td>1.7</td>\n",
       "      <td>1</td>\n",
       "      <td>0</td>\n",
       "      <td>0</td>\n",
       "      <td>0</td>\n",
       "    </tr>\n",
       "    <tr>\n",
       "      <th>29</th>\n",
       "      <td>21</td>\n",
       "      <td>1.6</td>\n",
       "      <td>0</td>\n",
       "      <td>0</td>\n",
       "      <td>0</td>\n",
       "      <td>1</td>\n",
       "    </tr>\n",
       "    <tr>\n",
       "      <th>13</th>\n",
       "      <td>19</td>\n",
       "      <td>1.8</td>\n",
       "      <td>0</td>\n",
       "      <td>0</td>\n",
       "      <td>1</td>\n",
       "      <td>0</td>\n",
       "    </tr>\n",
       "    <tr>\n",
       "      <th>78</th>\n",
       "      <td>18</td>\n",
       "      <td>2.0</td>\n",
       "      <td>0</td>\n",
       "      <td>1</td>\n",
       "      <td>0</td>\n",
       "      <td>0</td>\n",
       "    </tr>\n",
       "  </tbody>\n",
       "</table>\n",
       "</div>"
      ],
      "text/plain": [
       "    age  height  Tom  jack  krish  nick\n",
       "20   20     1.7    1     0      0     0\n",
       "29   21     1.6    0     0      0     1\n",
       "13   19     1.8    0     0      1     0\n",
       "78   18     2.0    0     1      0     0"
      ]
     },
     "execution_count": 15,
     "metadata": {},
     "output_type": "execute_result"
    }
   ],
   "source": [
    "pd.get_dummies(df, prefix='', prefix_sep='', columns=['name'])"
   ]
  },
  {
   "cell_type": "markdown",
   "id": "f157aed6",
   "metadata": {},
   "source": [
    "### מחיקת תכונות או שורות"
   ]
  },
  {
   "cell_type": "markdown",
   "id": "782ae181",
   "metadata": {
    "direction": "ltr"
   },
   "source": [
    "DataFrame.drop(labels=None, *, axis=0, index=None, columns=None, level=None, inplace=False, errors='raise')\n",
    "\n",
    "- index: single row index or list of indexes to drop.\n",
    "- columns: single column or list of columns to drop."
   ]
  },
  {
   "cell_type": "code",
   "execution_count": 18,
   "id": "c764ec1a",
   "metadata": {},
   "outputs": [
    {
     "data": {
      "text/html": [
       "<div>\n",
       "<style scoped>\n",
       "    .dataframe tbody tr th:only-of-type {\n",
       "        vertical-align: middle;\n",
       "    }\n",
       "\n",
       "    .dataframe tbody tr th {\n",
       "        vertical-align: top;\n",
       "    }\n",
       "\n",
       "    .dataframe thead th {\n",
       "        text-align: right;\n",
       "    }\n",
       "</style>\n",
       "<table border=\"1\" class=\"dataframe\">\n",
       "  <thead>\n",
       "    <tr style=\"text-align: right;\">\n",
       "      <th></th>\n",
       "      <th>name</th>\n",
       "      <th>height</th>\n",
       "    </tr>\n",
       "  </thead>\n",
       "  <tbody>\n",
       "    <tr>\n",
       "      <th>20</th>\n",
       "      <td>Tom</td>\n",
       "      <td>1.7</td>\n",
       "    </tr>\n",
       "    <tr>\n",
       "      <th>29</th>\n",
       "      <td>nick</td>\n",
       "      <td>1.6</td>\n",
       "    </tr>\n",
       "    <tr>\n",
       "      <th>13</th>\n",
       "      <td>krish</td>\n",
       "      <td>1.8</td>\n",
       "    </tr>\n",
       "    <tr>\n",
       "      <th>78</th>\n",
       "      <td>jack</td>\n",
       "      <td>2.0</td>\n",
       "    </tr>\n",
       "  </tbody>\n",
       "</table>\n",
       "</div>"
      ],
      "text/plain": [
       "     name  height\n",
       "20    Tom     1.7\n",
       "29   nick     1.6\n",
       "13  krish     1.8\n",
       "78   jack     2.0"
      ]
     },
     "execution_count": 18,
     "metadata": {},
     "output_type": "execute_result"
    }
   ],
   "source": [
    "df.drop(columns=['age'])"
   ]
  },
  {
   "cell_type": "markdown",
   "id": "2e87d646",
   "metadata": {},
   "source": [
    "## חלוקה ל-train ו-test"
   ]
  },
  {
   "cell_type": "markdown",
   "id": "22323cbc",
   "metadata": {
    "direction": "ltr"
   },
   "source": [
    "DataFrame.sample(n=None, frac=None, replace=False, weights=None, random_state=None, axis=None, ignore_index=False)\n",
    "\n",
    "- n: Number of items from axis to return. Cannot be used with frac. Default = 1 if frac = None.\n",
    "- frac: Fraction of axis items to return. Cannot be used with n.\n",
    "- replace: bool. Allow or disallow sampling of the same row more than once.\n",
    "- weights: str or list. Default ‘None’ results in equal probability weighting.\n",
    "- ignore_index: bool. If True, the resulting index will be labeled 0, 1, …, n - 1."
   ]
  },
  {
   "cell_type": "code",
   "execution_count": null,
   "id": "629d51ca",
   "metadata": {},
   "outputs": [],
   "source": [
    "train_df = df.sample(frac=0.8, random_state=0)\n",
    "test_df = df.drop(train_df.index)"
   ]
  },
  {
   "cell_type": "markdown",
   "id": "ff87673e",
   "metadata": {},
   "source": [
    "## יצירת label"
   ]
  },
  {
   "cell_type": "code",
   "execution_count": null,
   "id": "9a65d0db",
   "metadata": {},
   "outputs": [],
   "source": [
    "train_features = train_df.copy()\n",
    "test_features = test_df.copy()\n",
    "train_labels = train_features.pop('age')\n",
    "test_labels = test_features.pop('age')"
   ]
  },
  {
   "cell_type": "markdown",
   "id": "def387fc-d453-4e65-a5b7-1ead928a7830",
   "metadata": {},
   "source": [
    "# Analyze"
   ]
  },
  {
   "cell_type": "markdown",
   "id": "08f47683-c038-4ae3-ab04-6d539a87f68a",
   "metadata": {},
   "source": [
    "#### group rows by certain columns\n",
    "DataFrame.groupby(by=None, axis=0, sort=True, group_keys=_NoDefault.no_default, dropna=True)"
   ]
  },
  {
   "cell_type": "code",
   "execution_count": 16,
   "id": "1212fa9e-14fa-4d0a-9e62-9e5148144b55",
   "metadata": {},
   "outputs": [
    {
     "data": {
      "text/html": [
       "<div>\n",
       "<style scoped>\n",
       "    .dataframe tbody tr th:only-of-type {\n",
       "        vertical-align: middle;\n",
       "    }\n",
       "\n",
       "    .dataframe tbody tr th {\n",
       "        vertical-align: top;\n",
       "    }\n",
       "\n",
       "    .dataframe thead tr th {\n",
       "        text-align: left;\n",
       "    }\n",
       "\n",
       "    .dataframe thead tr:last-of-type th {\n",
       "        text-align: right;\n",
       "    }\n",
       "</style>\n",
       "<table border=\"1\" class=\"dataframe\">\n",
       "  <thead>\n",
       "    <tr>\n",
       "      <th></th>\n",
       "      <th colspan=\"3\" halign=\"left\">daily_vaccinations</th>\n",
       "    </tr>\n",
       "    <tr>\n",
       "      <th></th>\n",
       "      <th>count</th>\n",
       "      <th>mean</th>\n",
       "      <th>std</th>\n",
       "    </tr>\n",
       "    <tr>\n",
       "      <th>location</th>\n",
       "      <th></th>\n",
       "      <th></th>\n",
       "      <th></th>\n",
       "    </tr>\n",
       "  </thead>\n",
       "  <tbody>\n",
       "    <tr>\n",
       "      <th>Afghanistan</th>\n",
       "      <td>81</td>\n",
       "      <td>16550.629630</td>\n",
       "      <td>32774.333829</td>\n",
       "    </tr>\n",
       "    <tr>\n",
       "      <th>Africa</th>\n",
       "      <td>710</td>\n",
       "      <td>985389.373239</td>\n",
       "      <td>640777.761535</td>\n",
       "    </tr>\n",
       "  </tbody>\n",
       "</table>\n",
       "</div>"
      ],
      "text/plain": [
       "            daily_vaccinations                              \n",
       "                         count           mean            std\n",
       "location                                                    \n",
       "Afghanistan                 81   16550.629630   32774.333829\n",
       "Africa                     710  985389.373239  640777.761535"
      ]
     },
     "execution_count": 16,
     "metadata": {},
     "output_type": "execute_result"
    }
   ],
   "source": [
    "grouped_df = vac_df.groupby('location')[['daily_vaccinations']]\n",
    "grouped_df.agg(['count', 'mean', 'std']).head(2)"
   ]
  },
  {
   "cell_type": "markdown",
   "id": "64d895b2-7dda-4a0a-8916-21db8f6b167b",
   "metadata": {},
   "source": [
    "#### sort\n",
    "DataFrame.sort_values(by, *, axis=0, ascending=True, inplace=False, kind='quicksort', na_position='last', ignore_index=False)"
   ]
  },
  {
   "cell_type": "code",
   "execution_count": 17,
   "id": "c8aee1fe-3c3a-4868-b5a9-90eb05b1179e",
   "metadata": {},
   "outputs": [
    {
     "ename": "AttributeError",
     "evalue": "'DataFrameGroupBy' object has no attribute 'sort_values'",
     "output_type": "error",
     "traceback": [
      "\u001b[1;31m---------------------------------------------------------------------------\u001b[0m",
      "\u001b[1;31mAttributeError\u001b[0m                            Traceback (most recent call last)",
      "Cell \u001b[1;32mIn [17], line 1\u001b[0m\n\u001b[1;32m----> 1\u001b[0m \u001b[43mgrouped_df\u001b[49m\u001b[38;5;241;43m.\u001b[39;49m\u001b[43msort_values\u001b[49m(\u001b[38;5;124m'\u001b[39m\u001b[38;5;124mdaily_vaccinations\u001b[39m\u001b[38;5;124m'\u001b[39m, ascending \u001b[38;5;241m=\u001b[39m \u001b[38;5;28;01mFalse\u001b[39;00m)\u001b[38;5;241m.\u001b[39mhead(\u001b[38;5;241m2\u001b[39m)\n",
      "File \u001b[1;32m~\\AppData\\Local\\Programs\\Python\\Python311\\Lib\\site-packages\\pandas\\core\\groupby\\groupby.py:981\u001b[0m, in \u001b[0;36mGroupBy.__getattr__\u001b[1;34m(self, attr)\u001b[0m\n\u001b[0;32m    978\u001b[0m \u001b[38;5;28;01mif\u001b[39;00m attr \u001b[38;5;129;01min\u001b[39;00m \u001b[38;5;28mself\u001b[39m\u001b[38;5;241m.\u001b[39mobj:\n\u001b[0;32m    979\u001b[0m     \u001b[38;5;28;01mreturn\u001b[39;00m \u001b[38;5;28mself\u001b[39m[attr]\n\u001b[1;32m--> 981\u001b[0m \u001b[38;5;28;01mraise\u001b[39;00m \u001b[38;5;167;01mAttributeError\u001b[39;00m(\n\u001b[0;32m    982\u001b[0m     \u001b[38;5;124mf\u001b[39m\u001b[38;5;124m\"\u001b[39m\u001b[38;5;124m'\u001b[39m\u001b[38;5;132;01m{\u001b[39;00m\u001b[38;5;28mtype\u001b[39m(\u001b[38;5;28mself\u001b[39m)\u001b[38;5;241m.\u001b[39m\u001b[38;5;18m__name__\u001b[39m\u001b[38;5;132;01m}\u001b[39;00m\u001b[38;5;124m'\u001b[39m\u001b[38;5;124m object has no attribute \u001b[39m\u001b[38;5;124m'\u001b[39m\u001b[38;5;132;01m{\u001b[39;00mattr\u001b[38;5;132;01m}\u001b[39;00m\u001b[38;5;124m'\u001b[39m\u001b[38;5;124m\"\u001b[39m\n\u001b[0;32m    983\u001b[0m )\n",
      "\u001b[1;31mAttributeError\u001b[0m: 'DataFrameGroupBy' object has no attribute 'sort_values'"
     ]
    }
   ],
   "source": [
    "grouped_df.sort_values('daily_vaccinations', ascending = False).head(2)"
   ]
  },
  {
   "cell_type": "markdown",
   "id": "b4643c6c-9962-4a5a-8e7e-eec363deb5eb",
   "metadata": {},
   "source": [
    "#### pivot table\n",
    "pandas.pivot_table(data, values=None, index=None, columns=None, aggfunc='mean', fill_value=None, margins=False, dropna=True, margins_name='All', observed=False, sort=True)"
   ]
  },
  {
   "cell_type": "code",
   "execution_count": null,
   "id": "2e7dd8cc-6555-453f-a269-e465837634c3",
   "metadata": {},
   "outputs": [],
   "source": [
    "vac_df.pivot_table('daily_vaccinations', index='location', columns='date', aggfunc='mean')"
   ]
  },
  {
   "cell_type": "markdown",
   "id": "0cb1ec1b-3280-4e18-8579-2cecb5ee2df3",
   "metadata": {},
   "source": [
    "## Series\n",
    "contains list of value like single column"
   ]
  },
  {
   "cell_type": "markdown",
   "id": "8f63b536-427c-4665-9b00-1eaebcaa33ec",
   "metadata": {},
   "source": [
    "#### operations on Series"
   ]
  },
  {
   "cell_type": "code",
   "execution_count": null,
   "id": "d6fb57d0-f4f9-44d3-a343-847ea3fd3758",
   "metadata": {},
   "outputs": [],
   "source": [
    "df['name'].unique()"
   ]
  },
  {
   "cell_type": "markdown",
   "id": "2d7e5d0c-0ac4-4091-bdb1-3b564d771b7a",
   "metadata": {},
   "source": [
    "#### search \n",
    "Series.str.contains(pat, case=True, flags=0, na=None, regex=True)\n",
    "\n",
    "Series.str.startswith(pat, na=None)"
   ]
  },
  {
   "cell_type": "code",
   "execution_count": null,
   "id": "b9ac2308-db44-4367-87fb-f1b564b4c841",
   "metadata": {},
   "outputs": [],
   "source": [
    "vac_df.loc[vac_df['location'].str.contains('afg*', regex=True)]\n",
    "vac_df.loc[vac_df['location'].str.startswith('isr', regex=True)]"
   ]
  },
  {
   "cell_type": "markdown",
   "id": "3ddf78d4-b1cb-41ad-9ccb-d31f03e98545",
   "metadata": {},
   "source": [
    "return one value"
   ]
  },
  {
   "cell_type": "code",
   "execution_count": null,
   "id": "5ae4f8fb-6f9d-433c-b371-62386b30241c",
   "metadata": {},
   "outputs": [],
   "source": [
    "vac_df['total_vaccinations'].max()\n",
    "vac_df['total_vaccinations'].min()\n",
    "vac_df['total_vaccinations'].mean()\n",
    "vac_df['total_vaccinations'].median()\n",
    "pass."
   ]
  },
  {
   "cell_type": "code",
   "execution_count": null,
   "id": "82cd0855-52bd-4748-a561-0fbd91d6fe32",
   "metadata": {},
   "outputs": [],
   "source": []
  }
 ],
 "metadata": {
  "direction": "rtl",
  "kernelspec": {
   "display_name": "Python 3 (ipykernel)",
   "language": "python",
   "name": "python3"
  },
  "language_info": {
   "codemirror_mode": {
    "name": "ipython",
    "version": 3
   },
   "file_extension": ".py",
   "mimetype": "text/x-python",
   "name": "python",
   "nbconvert_exporter": "python",
   "pygments_lexer": "ipython3",
   "version": "3.11.0"
  }
 },
 "nbformat": 4,
 "nbformat_minor": 5
}
